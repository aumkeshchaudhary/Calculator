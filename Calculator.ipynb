{
  "nbformat": 4,
  "nbformat_minor": 0,
  "metadata": {
    "colab": {
      "provenance": []
    },
    "kernelspec": {
      "name": "python3",
      "display_name": "Python 3"
    },
    "language_info": {
      "name": "python"
    }
  },
  "cells": [
    {
      "cell_type": "code",
      "source": [
        "import math as mt\n",
        "operator = (input(\"Enter the Operator:\"))\n",
        "def Calculator():\n",
        "        if operator == '+':\n",
        "            print(\"The sum is:\",a+b)\n",
        "        elif operator == '-':\n",
        "            print(\"The difference is:\",a-b)\n",
        "        elif operator == '*':\n",
        "            print(\"The multiplication is:\",a*b)\n",
        "        elif operator == '/':\n",
        "            print(\"The Quotient is:\",a/b)\n",
        "        elif operator == '^':\n",
        "            print(\"The exponential value is:\",a**b)\n",
        "        elif operator == '!':\n",
        "            print(\"The square root is:\",mt.sqrt(a))\n",
        "        elif operator == '#':\n",
        "            print(\"The log value is:\",mt.log(a))\n",
        "\n",
        "a = int(input(\"Enter the number:\"))\n",
        "if operator in ['!','#']:\n",
        "  pass\n",
        "else:\n",
        "  b = int(input(\"Enter the number:\"))\n",
        "\n",
        "Calculator()"
      ],
      "metadata": {
        "colab": {
          "base_uri": "https://localhost:8080/"
        },
        "id": "O7rqlUf1Z9f9",
        "outputId": "657b305a-42c1-47e5-b237-cdfe2cc9233d"
      },
      "execution_count": 31,
      "outputs": [
        {
          "output_type": "stream",
          "name": "stdout",
          "text": [
            "Enter the Operator:#\n",
            "Enter the number:5\n",
            "The log value is: 1.6094379124341003\n"
          ]
        }
      ]
    }
  ]
}